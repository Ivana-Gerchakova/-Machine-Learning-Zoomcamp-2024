{
 "cells": [
  {
   "cell_type": "markdown",
   "id": "6ce0ff04-2612-42d3-a712-910675f4aa95",
   "metadata": {},
   "source": [
    "### Question 1"
   ]
  },
  {
   "cell_type": "code",
   "execution_count": null,
   "id": "033ae6b7-a70b-4d87-acf2-d370deef109b",
   "metadata": {},
   "outputs": [],
   "source": [
    "(base) C:\\Users\\User\\machine-learning-zoomcamp\\cohorts\\2024\\05-deployment\\homework>python q6_test.py\n",
    "{'has_subscribed': True, 'has_subscribed_probability': 0.756743795240796}"
   ]
  },
  {
   "cell_type": "markdown",
   "id": "17e99434-6213-4dba-b9fb-8aa663e31a17",
   "metadata": {},
   "source": [
    "### Question 2"
   ]
  },
  {
   "cell_type": "code",
   "execution_count": null,
   "id": "ce500ba5-73ab-4b23-aad1-a2b0d5337dc2",
   "metadata": {},
   "outputs": [],
   "source": [
    "C:\\Program Files\\kind>kind version\n",
    "kind v0.26.0 go1.23.4 windows/amd64"
   ]
  },
  {
   "cell_type": "markdown",
   "id": "e0ec637b-52ac-4a8c-8126-55f84e877905",
   "metadata": {},
   "source": [
    "### Question 4"
   ]
  },
  {
   "cell_type": "code",
   "execution_count": null,
   "id": "3506ed44-0b48-4189-86d6-0ada877f1a2c",
   "metadata": {},
   "outputs": [],
   "source": [
    "C:\\Program Files\\kind>kubectl get services\n",
    "NAME         TYPE        CLUSTER-IP   EXTERNAL-IP   PORT(S)   AGE\n",
    "kubernetes   ClusterIP   10.96.0.1    <none>        443/TCP   10m"
   ]
  },
  {
   "cell_type": "markdown",
   "id": "a242cfbe-d4f2-41d6-9a76-698afb57a8c8",
   "metadata": {},
   "source": [
    "### Question 5"
   ]
  },
  {
   "cell_type": "code",
   "execution_count": null,
   "id": "5c17829b-db1c-457a-b673-238398daf58f",
   "metadata": {},
   "outputs": [],
   "source": [
    "C:\\Program Files\\kind>kind load docker-image zoomcamp-model:3.11.5-hw10\n",
    "Image: \"zoomcamp-model:3.11.5-hw10\" with ID \"sha256:7a07e5ece54f2ac31fbc8f98950e18097b6d1b99c4d793a52d3fa4970ce8eaeb\" \n",
    "not yet present on node \"kind-control-plane\", loading...\n"
   ]
  }
 ],
 "metadata": {
  "colab": {
   "provenance": []
  },
  "kernelspec": {
   "display_name": "Python 3 (ipykernel)",
   "language": "python",
   "name": "python3"
  },
  "language_info": {
   "codemirror_mode": {
    "name": "ipython",
    "version": 3
   },
   "file_extension": ".py",
   "mimetype": "text/x-python",
   "name": "python",
   "nbconvert_exporter": "python",
   "pygments_lexer": "ipython3",
   "version": "3.12.7"
  }
 },
 "nbformat": 4,
 "nbformat_minor": 5
}
