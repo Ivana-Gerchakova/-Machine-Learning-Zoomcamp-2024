{
  "cells": [
    {
      "cell_type": "markdown",
      "id": "ab8a406e",
      "metadata": {
        "id": "ab8a406e"
      },
      "source": [
        "### LIBRARIES :"
      ]
    },
    {
      "cell_type": "code",
      "execution_count": 1,
      "id": "12cfd420-3114-415e-977f-1977d8a4d039",
      "metadata": {
        "id": "12cfd420-3114-415e-977f-1977d8a4d039"
      },
      "outputs": [],
      "source": [
        "import pandas as pd"
      ]
    },
    {
      "cell_type": "markdown",
      "id": "4d0dbcae",
      "metadata": {
        "id": "4d0dbcae"
      },
      "source": [
        "### READ THE DATASET :"
      ]
    },
    {
      "cell_type": "code",
      "execution_count": 2,
      "id": "84ba1d94-6852-4027-923c-f3eeb95de3ac",
      "metadata": {
        "colab": {
          "base_uri": "https://localhost:8080/",
          "height": 206
        },
        "id": "84ba1d94-6852-4027-923c-f3eeb95de3ac",
        "outputId": "6155ad9d-f67f-4cb9-99e0-2bbf13d65a23"
      },
      "outputs": [
        {
          "output_type": "execute_result",
          "data": {
            "text/plain": [
              "   age           job  marital  education default  balance housing loan  \\\n",
              "0   58    management  married   tertiary      no     2143     yes   no   \n",
              "1   44    technician   single  secondary      no       29     yes   no   \n",
              "2   33  entrepreneur  married  secondary      no        2     yes  yes   \n",
              "3   47   blue-collar  married    unknown      no     1506     yes   no   \n",
              "4   33       unknown   single    unknown      no        1      no   no   \n",
              "\n",
              "   contact  day month  duration  campaign  pdays  previous poutcome   y  \n",
              "0  unknown    5   may       261         1     -1         0  unknown  no  \n",
              "1  unknown    5   may       151         1     -1         0  unknown  no  \n",
              "2  unknown    5   may        76         1     -1         0  unknown  no  \n",
              "3  unknown    5   may        92         1     -1         0  unknown  no  \n",
              "4  unknown    5   may       198         1     -1         0  unknown  no  "
            ],
            "text/html": [
              "\n",
              "  <div id=\"df-75be5b51-eeab-48b3-987c-b70f9b925796\" class=\"colab-df-container\">\n",
              "    <div>\n",
              "<style scoped>\n",
              "    .dataframe tbody tr th:only-of-type {\n",
              "        vertical-align: middle;\n",
              "    }\n",
              "\n",
              "    .dataframe tbody tr th {\n",
              "        vertical-align: top;\n",
              "    }\n",
              "\n",
              "    .dataframe thead th {\n",
              "        text-align: right;\n",
              "    }\n",
              "</style>\n",
              "<table border=\"1\" class=\"dataframe\">\n",
              "  <thead>\n",
              "    <tr style=\"text-align: right;\">\n",
              "      <th></th>\n",
              "      <th>age</th>\n",
              "      <th>job</th>\n",
              "      <th>marital</th>\n",
              "      <th>education</th>\n",
              "      <th>default</th>\n",
              "      <th>balance</th>\n",
              "      <th>housing</th>\n",
              "      <th>loan</th>\n",
              "      <th>contact</th>\n",
              "      <th>day</th>\n",
              "      <th>month</th>\n",
              "      <th>duration</th>\n",
              "      <th>campaign</th>\n",
              "      <th>pdays</th>\n",
              "      <th>previous</th>\n",
              "      <th>poutcome</th>\n",
              "      <th>y</th>\n",
              "    </tr>\n",
              "  </thead>\n",
              "  <tbody>\n",
              "    <tr>\n",
              "      <th>0</th>\n",
              "      <td>58</td>\n",
              "      <td>management</td>\n",
              "      <td>married</td>\n",
              "      <td>tertiary</td>\n",
              "      <td>no</td>\n",
              "      <td>2143</td>\n",
              "      <td>yes</td>\n",
              "      <td>no</td>\n",
              "      <td>unknown</td>\n",
              "      <td>5</td>\n",
              "      <td>may</td>\n",
              "      <td>261</td>\n",
              "      <td>1</td>\n",
              "      <td>-1</td>\n",
              "      <td>0</td>\n",
              "      <td>unknown</td>\n",
              "      <td>no</td>\n",
              "    </tr>\n",
              "    <tr>\n",
              "      <th>1</th>\n",
              "      <td>44</td>\n",
              "      <td>technician</td>\n",
              "      <td>single</td>\n",
              "      <td>secondary</td>\n",
              "      <td>no</td>\n",
              "      <td>29</td>\n",
              "      <td>yes</td>\n",
              "      <td>no</td>\n",
              "      <td>unknown</td>\n",
              "      <td>5</td>\n",
              "      <td>may</td>\n",
              "      <td>151</td>\n",
              "      <td>1</td>\n",
              "      <td>-1</td>\n",
              "      <td>0</td>\n",
              "      <td>unknown</td>\n",
              "      <td>no</td>\n",
              "    </tr>\n",
              "    <tr>\n",
              "      <th>2</th>\n",
              "      <td>33</td>\n",
              "      <td>entrepreneur</td>\n",
              "      <td>married</td>\n",
              "      <td>secondary</td>\n",
              "      <td>no</td>\n",
              "      <td>2</td>\n",
              "      <td>yes</td>\n",
              "      <td>yes</td>\n",
              "      <td>unknown</td>\n",
              "      <td>5</td>\n",
              "      <td>may</td>\n",
              "      <td>76</td>\n",
              "      <td>1</td>\n",
              "      <td>-1</td>\n",
              "      <td>0</td>\n",
              "      <td>unknown</td>\n",
              "      <td>no</td>\n",
              "    </tr>\n",
              "    <tr>\n",
              "      <th>3</th>\n",
              "      <td>47</td>\n",
              "      <td>blue-collar</td>\n",
              "      <td>married</td>\n",
              "      <td>unknown</td>\n",
              "      <td>no</td>\n",
              "      <td>1506</td>\n",
              "      <td>yes</td>\n",
              "      <td>no</td>\n",
              "      <td>unknown</td>\n",
              "      <td>5</td>\n",
              "      <td>may</td>\n",
              "      <td>92</td>\n",
              "      <td>1</td>\n",
              "      <td>-1</td>\n",
              "      <td>0</td>\n",
              "      <td>unknown</td>\n",
              "      <td>no</td>\n",
              "    </tr>\n",
              "    <tr>\n",
              "      <th>4</th>\n",
              "      <td>33</td>\n",
              "      <td>unknown</td>\n",
              "      <td>single</td>\n",
              "      <td>unknown</td>\n",
              "      <td>no</td>\n",
              "      <td>1</td>\n",
              "      <td>no</td>\n",
              "      <td>no</td>\n",
              "      <td>unknown</td>\n",
              "      <td>5</td>\n",
              "      <td>may</td>\n",
              "      <td>198</td>\n",
              "      <td>1</td>\n",
              "      <td>-1</td>\n",
              "      <td>0</td>\n",
              "      <td>unknown</td>\n",
              "      <td>no</td>\n",
              "    </tr>\n",
              "  </tbody>\n",
              "</table>\n",
              "</div>\n",
              "    <div class=\"colab-df-buttons\">\n",
              "\n",
              "  <div class=\"colab-df-container\">\n",
              "    <button class=\"colab-df-convert\" onclick=\"convertToInteractive('df-75be5b51-eeab-48b3-987c-b70f9b925796')\"\n",
              "            title=\"Convert this dataframe to an interactive table.\"\n",
              "            style=\"display:none;\">\n",
              "\n",
              "  <svg xmlns=\"http://www.w3.org/2000/svg\" height=\"24px\" viewBox=\"0 -960 960 960\">\n",
              "    <path d=\"M120-120v-720h720v720H120Zm60-500h600v-160H180v160Zm220 220h160v-160H400v160Zm0 220h160v-160H400v160ZM180-400h160v-160H180v160Zm440 0h160v-160H620v160ZM180-180h160v-160H180v160Zm440 0h160v-160H620v160Z\"/>\n",
              "  </svg>\n",
              "    </button>\n",
              "\n",
              "  <style>\n",
              "    .colab-df-container {\n",
              "      display:flex;\n",
              "      gap: 12px;\n",
              "    }\n",
              "\n",
              "    .colab-df-convert {\n",
              "      background-color: #E8F0FE;\n",
              "      border: none;\n",
              "      border-radius: 50%;\n",
              "      cursor: pointer;\n",
              "      display: none;\n",
              "      fill: #1967D2;\n",
              "      height: 32px;\n",
              "      padding: 0 0 0 0;\n",
              "      width: 32px;\n",
              "    }\n",
              "\n",
              "    .colab-df-convert:hover {\n",
              "      background-color: #E2EBFA;\n",
              "      box-shadow: 0px 1px 2px rgba(60, 64, 67, 0.3), 0px 1px 3px 1px rgba(60, 64, 67, 0.15);\n",
              "      fill: #174EA6;\n",
              "    }\n",
              "\n",
              "    .colab-df-buttons div {\n",
              "      margin-bottom: 4px;\n",
              "    }\n",
              "\n",
              "    [theme=dark] .colab-df-convert {\n",
              "      background-color: #3B4455;\n",
              "      fill: #D2E3FC;\n",
              "    }\n",
              "\n",
              "    [theme=dark] .colab-df-convert:hover {\n",
              "      background-color: #434B5C;\n",
              "      box-shadow: 0px 1px 3px 1px rgba(0, 0, 0, 0.15);\n",
              "      filter: drop-shadow(0px 1px 2px rgba(0, 0, 0, 0.3));\n",
              "      fill: #FFFFFF;\n",
              "    }\n",
              "  </style>\n",
              "\n",
              "    <script>\n",
              "      const buttonEl =\n",
              "        document.querySelector('#df-75be5b51-eeab-48b3-987c-b70f9b925796 button.colab-df-convert');\n",
              "      buttonEl.style.display =\n",
              "        google.colab.kernel.accessAllowed ? 'block' : 'none';\n",
              "\n",
              "      async function convertToInteractive(key) {\n",
              "        const element = document.querySelector('#df-75be5b51-eeab-48b3-987c-b70f9b925796');\n",
              "        const dataTable =\n",
              "          await google.colab.kernel.invokeFunction('convertToInteractive',\n",
              "                                                    [key], {});\n",
              "        if (!dataTable) return;\n",
              "\n",
              "        const docLinkHtml = 'Like what you see? Visit the ' +\n",
              "          '<a target=\"_blank\" href=https://colab.research.google.com/notebooks/data_table.ipynb>data table notebook</a>'\n",
              "          + ' to learn more about interactive tables.';\n",
              "        element.innerHTML = '';\n",
              "        dataTable['output_type'] = 'display_data';\n",
              "        await google.colab.output.renderOutput(dataTable, element);\n",
              "        const docLink = document.createElement('div');\n",
              "        docLink.innerHTML = docLinkHtml;\n",
              "        element.appendChild(docLink);\n",
              "      }\n",
              "    </script>\n",
              "  </div>\n",
              "\n",
              "\n",
              "<div id=\"df-e9418cdf-f81c-4bce-b130-ae031b6019c0\">\n",
              "  <button class=\"colab-df-quickchart\" onclick=\"quickchart('df-e9418cdf-f81c-4bce-b130-ae031b6019c0')\"\n",
              "            title=\"Suggest charts\"\n",
              "            style=\"display:none;\">\n",
              "\n",
              "<svg xmlns=\"http://www.w3.org/2000/svg\" height=\"24px\"viewBox=\"0 0 24 24\"\n",
              "     width=\"24px\">\n",
              "    <g>\n",
              "        <path d=\"M19 3H5c-1.1 0-2 .9-2 2v14c0 1.1.9 2 2 2h14c1.1 0 2-.9 2-2V5c0-1.1-.9-2-2-2zM9 17H7v-7h2v7zm4 0h-2V7h2v10zm4 0h-2v-4h2v4z\"/>\n",
              "    </g>\n",
              "</svg>\n",
              "  </button>\n",
              "\n",
              "<style>\n",
              "  .colab-df-quickchart {\n",
              "      --bg-color: #E8F0FE;\n",
              "      --fill-color: #1967D2;\n",
              "      --hover-bg-color: #E2EBFA;\n",
              "      --hover-fill-color: #174EA6;\n",
              "      --disabled-fill-color: #AAA;\n",
              "      --disabled-bg-color: #DDD;\n",
              "  }\n",
              "\n",
              "  [theme=dark] .colab-df-quickchart {\n",
              "      --bg-color: #3B4455;\n",
              "      --fill-color: #D2E3FC;\n",
              "      --hover-bg-color: #434B5C;\n",
              "      --hover-fill-color: #FFFFFF;\n",
              "      --disabled-bg-color: #3B4455;\n",
              "      --disabled-fill-color: #666;\n",
              "  }\n",
              "\n",
              "  .colab-df-quickchart {\n",
              "    background-color: var(--bg-color);\n",
              "    border: none;\n",
              "    border-radius: 50%;\n",
              "    cursor: pointer;\n",
              "    display: none;\n",
              "    fill: var(--fill-color);\n",
              "    height: 32px;\n",
              "    padding: 0;\n",
              "    width: 32px;\n",
              "  }\n",
              "\n",
              "  .colab-df-quickchart:hover {\n",
              "    background-color: var(--hover-bg-color);\n",
              "    box-shadow: 0 1px 2px rgba(60, 64, 67, 0.3), 0 1px 3px 1px rgba(60, 64, 67, 0.15);\n",
              "    fill: var(--button-hover-fill-color);\n",
              "  }\n",
              "\n",
              "  .colab-df-quickchart-complete:disabled,\n",
              "  .colab-df-quickchart-complete:disabled:hover {\n",
              "    background-color: var(--disabled-bg-color);\n",
              "    fill: var(--disabled-fill-color);\n",
              "    box-shadow: none;\n",
              "  }\n",
              "\n",
              "  .colab-df-spinner {\n",
              "    border: 2px solid var(--fill-color);\n",
              "    border-color: transparent;\n",
              "    border-bottom-color: var(--fill-color);\n",
              "    animation:\n",
              "      spin 1s steps(1) infinite;\n",
              "  }\n",
              "\n",
              "  @keyframes spin {\n",
              "    0% {\n",
              "      border-color: transparent;\n",
              "      border-bottom-color: var(--fill-color);\n",
              "      border-left-color: var(--fill-color);\n",
              "    }\n",
              "    20% {\n",
              "      border-color: transparent;\n",
              "      border-left-color: var(--fill-color);\n",
              "      border-top-color: var(--fill-color);\n",
              "    }\n",
              "    30% {\n",
              "      border-color: transparent;\n",
              "      border-left-color: var(--fill-color);\n",
              "      border-top-color: var(--fill-color);\n",
              "      border-right-color: var(--fill-color);\n",
              "    }\n",
              "    40% {\n",
              "      border-color: transparent;\n",
              "      border-right-color: var(--fill-color);\n",
              "      border-top-color: var(--fill-color);\n",
              "    }\n",
              "    60% {\n",
              "      border-color: transparent;\n",
              "      border-right-color: var(--fill-color);\n",
              "    }\n",
              "    80% {\n",
              "      border-color: transparent;\n",
              "      border-right-color: var(--fill-color);\n",
              "      border-bottom-color: var(--fill-color);\n",
              "    }\n",
              "    90% {\n",
              "      border-color: transparent;\n",
              "      border-bottom-color: var(--fill-color);\n",
              "    }\n",
              "  }\n",
              "</style>\n",
              "\n",
              "  <script>\n",
              "    async function quickchart(key) {\n",
              "      const quickchartButtonEl =\n",
              "        document.querySelector('#' + key + ' button');\n",
              "      quickchartButtonEl.disabled = true;  // To prevent multiple clicks.\n",
              "      quickchartButtonEl.classList.add('colab-df-spinner');\n",
              "      try {\n",
              "        const charts = await google.colab.kernel.invokeFunction(\n",
              "            'suggestCharts', [key], {});\n",
              "      } catch (error) {\n",
              "        console.error('Error during call to suggestCharts:', error);\n",
              "      }\n",
              "      quickchartButtonEl.classList.remove('colab-df-spinner');\n",
              "      quickchartButtonEl.classList.add('colab-df-quickchart-complete');\n",
              "    }\n",
              "    (() => {\n",
              "      let quickchartButtonEl =\n",
              "        document.querySelector('#df-e9418cdf-f81c-4bce-b130-ae031b6019c0 button');\n",
              "      quickchartButtonEl.style.display =\n",
              "        google.colab.kernel.accessAllowed ? 'block' : 'none';\n",
              "    })();\n",
              "  </script>\n",
              "</div>\n",
              "    </div>\n",
              "  </div>\n"
            ],
            "application/vnd.google.colaboratory.intrinsic+json": {
              "type": "dataframe",
              "variable_name": "df",
              "summary": "{\n  \"name\": \"df\",\n  \"rows\": 45211,\n  \"fields\": [\n    {\n      \"column\": \"age\",\n      \"properties\": {\n        \"dtype\": \"number\",\n        \"std\": 10,\n        \"min\": 18,\n        \"max\": 95,\n        \"num_unique_values\": 77,\n        \"samples\": [\n          35,\n          34,\n          53\n        ],\n        \"semantic_type\": \"\",\n        \"description\": \"\"\n      }\n    },\n    {\n      \"column\": \"job\",\n      \"properties\": {\n        \"dtype\": \"category\",\n        \"num_unique_values\": 12,\n        \"samples\": [\n          \"housemaid\",\n          \"unemployed\",\n          \"management\"\n        ],\n        \"semantic_type\": \"\",\n        \"description\": \"\"\n      }\n    },\n    {\n      \"column\": \"marital\",\n      \"properties\": {\n        \"dtype\": \"category\",\n        \"num_unique_values\": 3,\n        \"samples\": [\n          \"married\",\n          \"single\",\n          \"divorced\"\n        ],\n        \"semantic_type\": \"\",\n        \"description\": \"\"\n      }\n    },\n    {\n      \"column\": \"education\",\n      \"properties\": {\n        \"dtype\": \"category\",\n        \"num_unique_values\": 4,\n        \"samples\": [\n          \"secondary\",\n          \"primary\",\n          \"tertiary\"\n        ],\n        \"semantic_type\": \"\",\n        \"description\": \"\"\n      }\n    },\n    {\n      \"column\": \"default\",\n      \"properties\": {\n        \"dtype\": \"category\",\n        \"num_unique_values\": 2,\n        \"samples\": [\n          \"yes\",\n          \"no\"\n        ],\n        \"semantic_type\": \"\",\n        \"description\": \"\"\n      }\n    },\n    {\n      \"column\": \"balance\",\n      \"properties\": {\n        \"dtype\": \"number\",\n        \"std\": 3044,\n        \"min\": -8019,\n        \"max\": 102127,\n        \"num_unique_values\": 7168,\n        \"samples\": [\n          3276,\n          43\n        ],\n        \"semantic_type\": \"\",\n        \"description\": \"\"\n      }\n    },\n    {\n      \"column\": \"housing\",\n      \"properties\": {\n        \"dtype\": \"category\",\n        \"num_unique_values\": 2,\n        \"samples\": [\n          \"no\",\n          \"yes\"\n        ],\n        \"semantic_type\": \"\",\n        \"description\": \"\"\n      }\n    },\n    {\n      \"column\": \"loan\",\n      \"properties\": {\n        \"dtype\": \"category\",\n        \"num_unique_values\": 2,\n        \"samples\": [\n          \"yes\",\n          \"no\"\n        ],\n        \"semantic_type\": \"\",\n        \"description\": \"\"\n      }\n    },\n    {\n      \"column\": \"contact\",\n      \"properties\": {\n        \"dtype\": \"category\",\n        \"num_unique_values\": 3,\n        \"samples\": [\n          \"unknown\",\n          \"cellular\"\n        ],\n        \"semantic_type\": \"\",\n        \"description\": \"\"\n      }\n    },\n    {\n      \"column\": \"day\",\n      \"properties\": {\n        \"dtype\": \"number\",\n        \"std\": 8,\n        \"min\": 1,\n        \"max\": 31,\n        \"num_unique_values\": 31,\n        \"samples\": [\n          1,\n          27\n        ],\n        \"semantic_type\": \"\",\n        \"description\": \"\"\n      }\n    },\n    {\n      \"column\": \"month\",\n      \"properties\": {\n        \"dtype\": \"category\",\n        \"num_unique_values\": 12,\n        \"samples\": [\n          \"apr\",\n          \"mar\"\n        ],\n        \"semantic_type\": \"\",\n        \"description\": \"\"\n      }\n    },\n    {\n      \"column\": \"duration\",\n      \"properties\": {\n        \"dtype\": \"number\",\n        \"std\": 257,\n        \"min\": 0,\n        \"max\": 4918,\n        \"num_unique_values\": 1573,\n        \"samples\": [\n          835,\n          1135\n        ],\n        \"semantic_type\": \"\",\n        \"description\": \"\"\n      }\n    },\n    {\n      \"column\": \"campaign\",\n      \"properties\": {\n        \"dtype\": \"number\",\n        \"std\": 3,\n        \"min\": 1,\n        \"max\": 63,\n        \"num_unique_values\": 48,\n        \"samples\": [\n          41,\n          27\n        ],\n        \"semantic_type\": \"\",\n        \"description\": \"\"\n      }\n    },\n    {\n      \"column\": \"pdays\",\n      \"properties\": {\n        \"dtype\": \"number\",\n        \"std\": 100,\n        \"min\": -1,\n        \"max\": 871,\n        \"num_unique_values\": 559,\n        \"samples\": [\n          249,\n          551\n        ],\n        \"semantic_type\": \"\",\n        \"description\": \"\"\n      }\n    },\n    {\n      \"column\": \"previous\",\n      \"properties\": {\n        \"dtype\": \"number\",\n        \"std\": 2,\n        \"min\": 0,\n        \"max\": 275,\n        \"num_unique_values\": 41,\n        \"samples\": [\n          17,\n          9\n        ],\n        \"semantic_type\": \"\",\n        \"description\": \"\"\n      }\n    },\n    {\n      \"column\": \"poutcome\",\n      \"properties\": {\n        \"dtype\": \"category\",\n        \"num_unique_values\": 4,\n        \"samples\": [\n          \"failure\",\n          \"success\"\n        ],\n        \"semantic_type\": \"\",\n        \"description\": \"\"\n      }\n    },\n    {\n      \"column\": \"y\",\n      \"properties\": {\n        \"dtype\": \"category\",\n        \"num_unique_values\": 2,\n        \"samples\": [\n          \"yes\",\n          \"no\"\n        ],\n        \"semantic_type\": \"\",\n        \"description\": \"\"\n      }\n    }\n  ]\n}"
            }
          },
          "metadata": {},
          "execution_count": 2
        }
      ],
      "source": [
        "df = pd.read_csv('bank-full.csv', delimiter=';', quotechar='\"')\n",
        "df.head()"
      ]
    },
    {
      "cell_type": "markdown",
      "id": "6e14f01b-2b63-4e9a-bd0a-e1d2e2db6dc1",
      "metadata": {
        "id": "6e14f01b-2b63-4e9a-bd0a-e1d2e2db6dc1"
      },
      "source": [
        "### Question 1\n",
        "Install Pipenv\n",
        "\n",
        "What's the version of pipenv you installed?\n",
        "\n",
        "Use --version to find out"
      ]
    },
    {
      "cell_type": "code",
      "execution_count": 3,
      "id": "5dfa8e5e",
      "metadata": {
        "colab": {
          "base_uri": "https://localhost:8080/"
        },
        "id": "5dfa8e5e",
        "outputId": "efb22573-e42e-4f19-82e4-1458de983f1b"
      },
      "outputs": [
        {
          "output_type": "stream",
          "name": "stdout",
          "text": [
            "Requirement already satisfied: pipenv in /usr/local/lib/python3.10/dist-packages (2024.3.0)\n",
            "Requirement already satisfied: certifi in /usr/local/lib/python3.10/dist-packages (from pipenv) (2024.8.30)\n",
            "Requirement already satisfied: packaging>=22 in /usr/local/lib/python3.10/dist-packages (from pipenv) (24.1)\n",
            "Requirement already satisfied: setuptools>=67 in /usr/local/lib/python3.10/dist-packages (from pipenv) (75.1.0)\n",
            "Requirement already satisfied: virtualenv>=20.24.2 in /usr/local/lib/python3.10/dist-packages (from pipenv) (20.27.1)\n",
            "Requirement already satisfied: distlib<1,>=0.3.7 in /usr/local/lib/python3.10/dist-packages (from virtualenv>=20.24.2->pipenv) (0.3.9)\n",
            "Requirement already satisfied: filelock<4,>=3.12.2 in /usr/local/lib/python3.10/dist-packages (from virtualenv>=20.24.2->pipenv) (3.16.1)\n",
            "Requirement already satisfied: platformdirs<5,>=3.9.1 in /usr/local/lib/python3.10/dist-packages (from virtualenv>=20.24.2->pipenv) (4.3.6)\n"
          ]
        }
      ],
      "source": [
        "!pip install pipenv"
      ]
    },
    {
      "cell_type": "code",
      "execution_count": 4,
      "id": "5a243f9b",
      "metadata": {
        "colab": {
          "base_uri": "https://localhost:8080/"
        },
        "id": "5a243f9b",
        "outputId": "b2040ad2-67ec-494c-9a1f-9a345ce2d9a0"
      },
      "outputs": [
        {
          "output_type": "stream",
          "name": "stdout",
          "text": [
            "\u001b[1mpipenv\u001b[0m, version 2024.3.0\n"
          ]
        }
      ],
      "source": [
        "!pipenv --version"
      ]
    },
    {
      "cell_type": "markdown",
      "id": "4812d428-daec-47e8-8cca-aca45ecb6e75",
      "metadata": {
        "id": "4812d428-daec-47e8-8cca-aca45ecb6e75"
      },
      "source": [
        "### Question 2\n",
        "Use Pipenv to install Scikit-Learn version 1.5.2\n",
        "\n",
        "What's the first hash for scikit-learn you get in Pipfile.lock?"
      ]
    },
    {
      "cell_type": "code",
      "execution_count": 5,
      "id": "1b90b874",
      "metadata": {
        "colab": {
          "base_uri": "https://localhost:8080/"
        },
        "id": "1b90b874",
        "outputId": "7f18b1b0-448f-4849-b498-8314b4ec839c"
      },
      "outputs": [
        {
          "output_type": "stream",
          "name": "stdout",
          "text": [
            "To activate this project's virtualenv, run \u001b[33mpipenv shell\u001b[0m.\n",
            "Alternatively, run a command inside the virtualenv with \u001b[33mpipenv run\u001b[0m.\n",
            "\u001b[1;32mInstalling scikit-learn==1.5.2...\u001b[0m\n",
            "✔ Installation Succeeded\n",
            "To activate this project's virtualenv, run \u001b[33mpipenv shell\u001b[0m.\n",
            "Alternatively, run a command inside the virtualenv with \u001b[33mpipenv run\u001b[0m.\n",
            "\u001b[1mInstalling dependencies from Pipfile.lock \u001b[0m\u001b[1;39m(0b43dd)...\u001b[0m\n",
            "\u001b[32mAll dependencies are now up-to-date!\u001b[0m\n",
            "\u001b[1;32mUpgrading\u001b[0m scikit-\u001b[33mlearn\u001b[0m==\u001b[1;36m1.5\u001b[0m.\u001b[1;36m2\u001b[0m in \u001b[39m dependencies.\u001b[0m\n",
            "\u001b[?25lBuilding requirements...\n",
            "\u001b[2KResolving dependencies...\n",
            "\u001b[2K✔ Success!\n",
            "\u001b[2K\u001b[32m⠸\u001b[0m Locking packages...\n",
            "\u001b[1A\u001b[2K\u001b[?25lBuilding requirements...\n",
            "\u001b[2KResolving dependencies...\n",
            "\u001b[2K✔ Success!\n",
            "\u001b[2K\u001b[32m⠴\u001b[0m Locking packages...\n",
            "\u001b[1A\u001b[2KTo activate this project's virtualenv, run \u001b[33mpipenv shell\u001b[0m.\n",
            "Alternatively, run a command inside the virtualenv with \u001b[33mpipenv run\u001b[0m.\n",
            "\u001b[1mInstalling dependencies from Pipfile.lock \u001b[0m\u001b[1;39m(0b43dd)...\u001b[0m\n",
            "\u001b[32mAll dependencies are now up-to-date!\u001b[0m\n",
            "\u001b[1mInstalling dependencies from Pipfile.lock \u001b[0m\u001b[1;39m(0b43dd)...\u001b[0m\n"
          ]
        }
      ],
      "source": [
        "!pipenv install scikit-learn==1.5.2"
      ]
    },
    {
      "cell_type": "markdown",
      "id": "75be14f3-b963-42ab-bd58-9ebc16e8bb03",
      "metadata": {
        "id": "75be14f3-b963-42ab-bd58-9ebc16e8bb03"
      },
      "source": [
        "### This is the hash for scikit-learn from Pipfile.lock"
      ]
    },
    {
      "cell_type": "code",
      "source": [
        "import json\n",
        "\n",
        "with open('/content/Pipfile.lock', 'r') as lockfile:\n",
        "    pipfile_data = json.load(lockfile)\n",
        "    # Најдете го hash-от за scikit-learn\n",
        "    scikit_learn_hash = pipfile_data['default']['scikit-learn']['hashes']\n",
        "    print(\"Hashes for scikit-learn:\", scikit_learn_hash)"
      ],
      "metadata": {
        "colab": {
          "base_uri": "https://localhost:8080/"
        },
        "id": "kaxAMKaxsxpu",
        "outputId": "adeda3ea-b62c-4c21-aa32-44af6949cb5d"
      },
      "id": "kaxAMKaxsxpu",
      "execution_count": 6,
      "outputs": [
        {
          "output_type": "stream",
          "name": "stdout",
          "text": [
            "Hashes for scikit-learn: ['sha256:03b6158efa3faaf1feea3faa884c840ebd61b6484167c711548fce208ea09445', 'sha256:178ddd0a5cb0044464fc1bfc4cca5b1833bfc7bb022d70b05db8530da4bb3dd3', 'sha256:1ff45e26928d3b4eb767a8f14a9a6efbf1cbff7c05d1fb0f95f211a89fd4f5de', 'sha256:299406827fb9a4f862626d0fe6c122f5f87f8910b86fe5daa4c32dcd742139b6', 'sha256:2d4cad1119c77930b235579ad0dc25e65c917e756fe80cab96aa3b9428bd3fb0', 'sha256:394397841449853c2290a32050382edaec3da89e35b3e03d6cc966aebc6a8ae6', 'sha256:3a686885a4b3818d9e62904d91b57fa757fc2bed3e465c8b177be652f4dd37c8', 'sha256:3b923d119d65b7bd555c73be5423bf06c0105678ce7e1f558cb4b40b0a5502b1', 'sha256:3bed4909ba187aca80580fe2ef370d9180dcf18e621a27c4cf2ef10d279a7efe', 'sha256:52788f48b5d8bca5c0736c175fa6bdaab2ef00a8f536cda698db61bd89c551c1', 'sha256:57cc1786cfd6bd118220a92ede80270132aa353647684efa385a74244a41e3b1', 'sha256:643964678f4b5fbdc95cbf8aec638acc7aa70f5f79ee2cdad1eec3df4ba6ead8', 'sha256:6c16d84a0d45e4894832b3c4d0bf73050939e21b99b01b6fd59cbb0cf39163b6', 'sha256:757c7d514ddb00ae249832fe87100d9c73c6ea91423802872d9e74970a0e40b9', 'sha256:8c412ccc2ad9bf3755915e3908e677b367ebc8d010acbb3f182814524f2e5540', 'sha256:b0768ad641981f5d3a198430a1d31c3e044ed2e8a6f22166b4d546a5116d7908', 'sha256:b4237ed7b3fdd0a4882792e68ef2545d5baa50aca3bb45aa7df468138ad8f94d', 'sha256:b7b0f9a0b1040830d38c39b91b3a44e1b643f4b36e36567b80b7c6bd2202a27f', 'sha256:c15b1ca23d7c5f33cc2cb0a0d6aaacf893792271cddff0edbd6a40e8319bc113', 'sha256:ca64b3089a6d9b9363cd3546f8978229dcbb737aceb2c12144ee3f70f95684b7', 'sha256:e9a702e2de732bbb20d3bad29ebd77fc05a6b427dc49964300340e4c9328b3f5', 'sha256:f60021ec1574e56632be2a36b946f8143bf4e5e6af4a06d85281adc22938e0dd', 'sha256:f7284ade780084d94505632241bf78c44ab3b6f1e8ccab3d2af58e0e950f9c12', 'sha256:f763897fe92d0e903aa4847b0aec0e68cadfff77e8a0687cabd946c89d17e675', 'sha256:f8b0ccd4a902836493e026c03256e8b206656f91fbcc4fde28c57a5b752561f1', 'sha256:f932a02c3f4956dfb981391ab24bda1dbd90fe3d628e4b42caef3e041c67707a']\n"
          ]
        }
      ]
    },
    {
      "cell_type": "markdown",
      "id": "033cb4d6-234e-42bb-986e-e28f78b3300c",
      "metadata": {
        "id": "033cb4d6-234e-42bb-986e-e28f78b3300c"
      },
      "source": [
        "### Models\n",
        "We've prepared a dictionary vectorizer and a model.\n",
        "\n",
        "They were trained (roughly) using this code:\n",
        "\n",
        "features = ['job', 'duration', 'poutcome']\n",
        "\n",
        "dicts = df[features].to_dict(orient='records')\n",
        "\n",
        "dv = DictVectorizer(sparse=False)\n",
        "\n",
        "X = dv.fit_transform(dicts)\n",
        "\n",
        "model = LogisticRegression().fit(X, y)\n",
        "\n",
        "Note: You don't need to train the model. This code is just for your reference.\n",
        "\n",
        "And then saved with Pickle. Download them:\n",
        "\n",
        "DictVectorizer\n",
        "LogisticRegression\n",
        "\n",
        "With wget:\n",
        "\n",
        "PREFIX=https://raw.githubusercontent.com/DataTalksClub/machine-learning-zoomcamp/master/cohorts/2024/05-deployment/homework\n",
        "\n",
        "wget $PREFIX/model1.bin\n",
        "\n",
        "wget $PREFIX/dv.bin"
      ]
    },
    {
      "cell_type": "code",
      "source": [
        "PREFIX=\"https://raw.githubusercontent.com/DataTalksClub/machine-learning-zoomcamp/master/cohorts/2024/05-deployment/homework\"\n",
        "!wget $PREFIX/model1.bin\n",
        "!wget $PREFIX/dv.bin"
      ],
      "metadata": {
        "colab": {
          "base_uri": "https://localhost:8080/"
        },
        "id": "hMNQz0xvtR14",
        "outputId": "7e64ca71-0f33-4a91-d9b4-4b4a13d3e096"
      },
      "id": "hMNQz0xvtR14",
      "execution_count": 7,
      "outputs": [
        {
          "output_type": "stream",
          "name": "stdout",
          "text": [
            "--2024-10-30 10:51:17--  https://raw.githubusercontent.com/DataTalksClub/machine-learning-zoomcamp/master/cohorts/2024/05-deployment/homework/model1.bin\n",
            "Resolving raw.githubusercontent.com (raw.githubusercontent.com)... 185.199.108.133, 185.199.110.133, 185.199.109.133, ...\n",
            "Connecting to raw.githubusercontent.com (raw.githubusercontent.com)|185.199.108.133|:443... connected.\n",
            "HTTP request sent, awaiting response... 200 OK\n",
            "Length: 850 [application/octet-stream]\n",
            "Saving to: ‘model1.bin’\n",
            "\n",
            "model1.bin          100%[===================>]     850  --.-KB/s    in 0s      \n",
            "\n",
            "2024-10-30 10:51:17 (37.6 MB/s) - ‘model1.bin’ saved [850/850]\n",
            "\n",
            "--2024-10-30 10:51:17--  https://raw.githubusercontent.com/DataTalksClub/machine-learning-zoomcamp/master/cohorts/2024/05-deployment/homework/dv.bin\n",
            "Resolving raw.githubusercontent.com (raw.githubusercontent.com)... 185.199.108.133, 185.199.109.133, 185.199.110.133, ...\n",
            "Connecting to raw.githubusercontent.com (raw.githubusercontent.com)|185.199.108.133|:443... connected.\n",
            "HTTP request sent, awaiting response... 200 OK\n",
            "Length: 560 [application/octet-stream]\n",
            "Saving to: ‘dv.bin’\n",
            "\n",
            "dv.bin              100%[===================>]     560  --.-KB/s    in 0s      \n",
            "\n",
            "2024-10-30 10:51:17 (9.74 MB/s) - ‘dv.bin’ saved [560/560]\n",
            "\n"
          ]
        }
      ]
    },
    {
      "cell_type": "markdown",
      "id": "408ecf6f-5137-4070-85df-2c44915ded78",
      "metadata": {
        "id": "408ecf6f-5137-4070-85df-2c44915ded78"
      },
      "source": [
        "### Question 3\n",
        "Let's use these models!\n",
        "\n",
        "Write a script for loading these models with pickle\n",
        "Score this client:\n",
        "\n",
        "{\"job\": \"management\", \"duration\": 400, \"poutcome\": \"success\"}\n",
        "\n",
        "What's the probability that this client will get a subscription?\n",
        "\n",
        "0.359\n",
        "\n",
        "0.559\n",
        "\n",
        "0.759\n",
        "\n",
        "0.959"
      ]
    },
    {
      "cell_type": "code",
      "execution_count": 8,
      "id": "278e4794",
      "metadata": {
        "colab": {
          "base_uri": "https://localhost:8080/"
        },
        "id": "278e4794",
        "outputId": "0ccdc043-fc24-4f1f-f8e5-caf4ca97b3ca"
      },
      "outputs": [
        {
          "output_type": "stream",
          "name": "stdout",
          "text": [
            "Subscription probability: 0.759\n"
          ]
        }
      ],
      "source": [
        "import pickle\n",
        "import warnings\n",
        "\n",
        "warnings.filterwarnings(\"ignore\")\n",
        "\n",
        "with open('dv.bin', 'rb') as dv_file:\n",
        "    dv = pickle.load(dv_file)\n",
        "\n",
        "with open('model1.bin', 'rb') as model_file:\n",
        "    model = pickle.load(model_file)\n",
        "\n",
        "client = {\"job\": \"management\", \"duration\": 400, \"poutcome\": \"success\"}\n",
        "\n",
        "X = dv.transform([client])\n",
        "\n",
        "prob = model.predict_proba(X)[0, 1]\n",
        "print(f\"Subscription probability: {prob:.3f}\")"
      ]
    },
    {
      "cell_type": "code",
      "execution_count": 9,
      "id": "bbf288d3-24ac-46ed-9fb6-288639ba66d6",
      "metadata": {
        "colab": {
          "base_uri": "https://localhost:8080/"
        },
        "id": "bbf288d3-24ac-46ed-9fb6-288639ba66d6",
        "outputId": "69030f75-5017-4b9a-e599-b595369edd68"
      },
      "outputs": [
        {
          "output_type": "stream",
          "name": "stdout",
          "text": [
            "MD5 for model1.bin: 3d8bb28974e55edefa000fe38fd3ed12\n",
            "MD5 for dv.bin: 7d37616e00aa80f2152b8b0511fc2dff\n"
          ]
        }
      ],
      "source": [
        "import hashlib\n",
        "\n",
        "def get_md5(file_path):\n",
        "    hash_md5 = hashlib.md5()\n",
        "    with open(file_path, \"rb\") as f:\n",
        "        for chunk in iter(lambda: f.read(4096), b\"\"):\n",
        "            hash_md5.update(chunk)\n",
        "    return hash_md5.hexdigest()\n",
        "\n",
        "model1_md5 = get_md5('model1.bin')\n",
        "dv_md5 = get_md5('dv.bin')\n",
        "\n",
        "print(f\"MD5 for model1.bin: {model1_md5}\")\n",
        "print(f\"MD5 for dv.bin: {dv_md5}\")"
      ]
    },
    {
      "cell_type": "markdown",
      "id": "dc0241d0-e8e4-4c97-a731-675bf0c7a44d",
      "metadata": {
        "id": "dc0241d0-e8e4-4c97-a731-675bf0c7a44d"
      },
      "source": [
        "### Question 4\n",
        "Now let's serve this model as a web service\n",
        "\n",
        "Install Flask and gunicorn (or waitress, if you're on Windows)\n",
        "Write Flask code for serving the model\n",
        "Now score this client using requests:\n",
        "\n",
        "url = \"YOUR_URL\"\n",
        "\n",
        "client = {\"job\": \"student\", \"duration\": 280, \"poutcome\": \"failure\"}\n",
        "\n",
        "requests.post(url, json=client).json()\n",
        "\n",
        "What's the probability that this client will get a subscription?\n",
        "\n",
        "0.335\n",
        "\n",
        "0.535\n",
        "\n",
        "0.735\n",
        "\n",
        "0.935"
      ]
    },
    {
      "cell_type": "code",
      "source": [
        "from flask import Flask, request, jsonify\n",
        "import threading\n",
        "\n",
        "app = Flask('subscription')\n",
        "\n",
        "def predict_subscription_proba(client, dv, model):\n",
        "    X = dv.transform([client])\n",
        "    prob = model.predict_proba(X)[0, 1]\n",
        "    return prob\n",
        "\n",
        "@app.route('/predict', methods=['POST'])\n",
        "def predict():\n",
        "    customer = request.get_json()\n",
        "    prediction = predict_subscription_proba(customer, dv, model)\n",
        "    result = {'subscription_probability': float(prediction)}\n",
        "    return jsonify(result)\n",
        "\n",
        "threading.Thread(target=app.run, kwargs={'host': '0.0.0.0', 'port': 9695}).start()"
      ],
      "metadata": {
        "id": "D-q3Dk14txAV"
      },
      "id": "D-q3Dk14txAV",
      "execution_count": 10,
      "outputs": []
    },
    {
      "cell_type": "code",
      "source": [
        "import requests\n",
        "url = \"http://172.28.0.12:9695/predict\"\n",
        "customer = {\"job\": \"student\", \"duration\": 280, \"poutcome\": \"failure\"}\n",
        "response = requests.post(url, json=customer)\n",
        "response.json()"
      ],
      "metadata": {
        "colab": {
          "base_uri": "https://localhost:8080/"
        },
        "id": "2vu-tGavtxEj",
        "outputId": "343c1289-2846-437b-8790-43e01593d233"
      },
      "id": "2vu-tGavtxEj",
      "execution_count": 11,
      "outputs": [
        {
          "output_type": "stream",
          "name": "stdout",
          "text": [
            " * Serving Flask app 'subscription'\n",
            " * Debug mode: off\n"
          ]
        },
        {
          "output_type": "stream",
          "name": "stderr",
          "text": [
            "INFO:werkzeug:\u001b[31m\u001b[1mWARNING: This is a development server. Do not use it in a production deployment. Use a production WSGI server instead.\u001b[0m\n",
            " * Running on all addresses (0.0.0.0)\n",
            " * Running on http://127.0.0.1:9695\n",
            " * Running on http://172.28.0.12:9695\n",
            "INFO:werkzeug:\u001b[33mPress CTRL+C to quit\u001b[0m\n",
            "INFO:werkzeug:172.28.0.12 - - [30/Oct/2024 10:51:18] \"POST /predict HTTP/1.1\" 200 -\n"
          ]
        },
        {
          "output_type": "execute_result",
          "data": {
            "text/plain": [
              "{'subscription_probability': 0.33480703475511053}"
            ]
          },
          "metadata": {},
          "execution_count": 11
        }
      ]
    },
    {
      "cell_type": "code",
      "source": [
        "dicts: list[dict] = [{\"job\": \"student\", \"duration\": 280, \"poutcome\": \"failure\"}]\n",
        "y_predict = model.predict_proba(X=dv.transform(X=dicts))[:, 1]\n",
        "round(number=y_predict[0], ndigits=3)"
      ],
      "metadata": {
        "colab": {
          "base_uri": "https://localhost:8080/"
        },
        "id": "Mofv7t3stm6S",
        "outputId": "f24364a3-77d1-4c5b-c52a-e6c7c72d907b"
      },
      "id": "Mofv7t3stm6S",
      "execution_count": 12,
      "outputs": [
        {
          "output_type": "execute_result",
          "data": {
            "text/plain": [
              "0.335"
            ]
          },
          "metadata": {},
          "execution_count": 12
        }
      ]
    },
    {
      "cell_type": "markdown",
      "id": "447f65ed-69b3-4b3f-8141-5fea44080b23",
      "metadata": {
        "id": "447f65ed-69b3-4b3f-8141-5fea44080b23"
      },
      "source": [
        "### Question 5\n",
        "Download the base image svizor/zoomcamp-model:3.11.5-slim. You can easily make it by using docker pull command.\n",
        "\n",
        "So what's the size of this base image?\n",
        "\n",
        "45 MB\n",
        "\n",
        "130 MB\n",
        "\n",
        "245 MB\n",
        "\n",
        "330 MB\n",
        "\n",
        "You can get this information when running docker images - it'll be in the \"SIZE\" column."
      ]
    },
    {
      "cell_type": "code",
      "source": [
        "def docker_colab():\n",
        "    import os\n",
        "\n",
        "    if not os.path.exists(\"/home/new_user\"):\n",
        "        !pip install udocker > /dev/null 2>&1\n",
        "        !udocker --allow-root install > /dev/null 2>&1\n",
        "        !useradd -m new_user > /dev/null 2>&1\n",
        "        print(\"udocker is now installed and ready to use in Colab\")\n",
        "\n",
        "    def run_udocker(cmd):\n",
        "        print(f\"Running: udocker {cmd}\")\n",
        "        !su - new_user -c \"udocker {cmd}\"\n",
        "\n",
        "    return run_udocker\n",
        "\n",
        "docker_runner = docker_colab()\n",
        "\n",
        "docker_runner(\"run hello-world\")"
      ],
      "metadata": {
        "colab": {
          "base_uri": "https://localhost:8080/"
        },
        "id": "g55ohTm6wRs0",
        "outputId": "fdbd1ff3-0d05-4c21-fb98-d6d59120ef69"
      },
      "id": "g55ohTm6wRs0",
      "execution_count": 13,
      "outputs": [
        {
          "output_type": "stream",
          "name": "stdout",
          "text": [
            "Running: udocker run hello-world\n",
            "Warning: check container content: 1d29ea30-09c6-3136-a9ac-465d2060bce8\n",
            " \n",
            " ****************************************************************************** \n",
            " *                                                                            * \n",
            " *               STARTING 1d29ea30-09c6-3136-a9ac-465d2060bce8                * \n",
            " *                                                                            * \n",
            " ****************************************************************************** \n",
            " executing: hello\n",
            "\n",
            "Hello from Docker!\n",
            "This message shows that your installation appears to be working correctly.\n",
            "\n",
            "To generate this message, Docker took the following steps:\n",
            " 1. The Docker client contacted the Docker daemon.\n",
            " 2. The Docker daemon pulled the \"hello-world\" image from the Docker Hub.\n",
            "    (amd64)\n",
            " 3. The Docker daemon created a new container from that image which runs the\n",
            "    executable that produces the output you are currently reading.\n",
            " 4. The Docker daemon streamed that output to the Docker client, which sent it\n",
            "    to your terminal.\n",
            "\n",
            "To try something more ambitious, you can run an Ubuntu container with:\n",
            " $ docker run -it ubuntu bash\n",
            "\n",
            "Share images, automate workflows, and more with a free Docker ID:\n",
            " https://hub.docker.com/\n",
            "\n",
            "For more examples and ideas, visit:\n",
            " https://docs.docker.com/get-started/\n",
            "\n"
          ]
        }
      ]
    },
    {
      "cell_type": "code",
      "source": [
        "docker_runner(\"create svizor/zoomcamp-model:3.11.5-slim\")\n",
        "\n",
        "docker_runner(\"ps -m -s\")"
      ],
      "metadata": {
        "colab": {
          "base_uri": "https://localhost:8080/"
        },
        "id": "xYxPAznZwR1Y",
        "outputId": "f33ee5db-ad73-4f0c-a6c8-949e93fbc840"
      },
      "id": "xYxPAznZwR1Y",
      "execution_count": 14,
      "outputs": [
        {
          "output_type": "stream",
          "name": "stdout",
          "text": [
            "Running: udocker create svizor/zoomcamp-model:3.11.5-slim\n",
            "db706b7e-d103-3f62-a295-32b1b63bf93f\n",
            "Running: udocker ps -m -s\n",
            "CONTAINER ID                         P M MOD SIZE NAMES              IMAGE               \n",
            "69ef3e93-b874-32d7-9048-e3d181bc3737 . W P1     1                    hello-world:latest  \n",
            "9a8335b4-cdeb-3eff-a83a-034410217a90 . W P1   137                    svizor/zoomcamp-model:3.11.5-slim\n",
            "79f7edf5-7b06-3d8b-9759-d0a1389138a9 . W P1   137                    svizor/zoomcamp-model:3.11.5-slim\n",
            "b20aeb91-7603-392d-860c-40dbd91e751a . W P1   138                    svizor/zoomcamp-model:3.11.5-slim\n",
            "aebb1c70-49c2-368a-b652-80943b52ba6a . W P1   137                    svizor/zoomcamp-model:3.11.5-slim\n",
            "330a0046-2c6a-3515-8e89-e96d31ff8cd3 . W P1   138                    svizor/zoomcamp-model:3.11.5-slim\n",
            "d4218d11-48a1-3c1d-a07c-90cd500bd441 . W P1   138                    svizor/zoomcamp-model:3.11.5-slim\n",
            "5628ce8d-8302-336e-a832-cc57c574fb0c . W P1   137                    svizor/zoomcamp-model:3.11.5-slim\n",
            "db706b7e-d103-3f62-a295-32b1b63bf93f . W P1   137                    svizor/zoomcamp-model:3.11.5-slim\n",
            "1d29ea30-09c6-3136-a9ac-465d2060bce8 . W P1     1                    hello-world:latest  \n",
            "6c97673d-91fa-3878-bda8-07d75b67499b . W P1     1                    hello-world:latest  \n",
            "91f4cead-5d01-31fc-8040-267399cd0b86 . W P1   137                    svizor/zoomcamp-model:3.11.5-slim\n",
            "4f68740a-2cbf-3030-b5c8-7e2e9bb648c9 . W P1     1                    hello-world:latest  \n",
            "b9f77c3c-89f8-357b-8852-f672a04f6cb8 . W P1   137                    svizor/zoomcamp-model:3.11.5-slim\n",
            "7f6782a6-7d6c-3ac4-afea-50e9b5ac77f5 . W P1   137                    svizor/zoomcamp-model:3.11.5-slim\n"
          ]
        }
      ]
    },
    {
      "cell_type": "markdown",
      "id": "2b3e1a3c-38aa-412b-8d77-c343dda69c48",
      "metadata": {
        "id": "2b3e1a3c-38aa-412b-8d77-c343dda69c48"
      },
      "source": [
        "### In docker in size column, for image svizor/zoomcamp-model:3.11.5-slim - 130MB"
      ]
    },
    {
      "cell_type": "markdown",
      "source": [
        "### Dockerfile\n",
        "Now create your own Dockerfile based on the image we prepared.\n",
        "\n",
        "It should start like that:\n",
        "\n",
        "FROM svizor/zoomcamp-model:3.11.5-slim\n",
        "\n",
        "# add your stuff here\n",
        "Now complete it:\n",
        "\n",
        "Install all the dependencies form the Pipenv file\n",
        "Copy your Flask script\n",
        "Run it with Gunicorn\n",
        "After that, you can build your docker image."
      ],
      "metadata": {
        "id": "dZQn_OKM7Cog"
      },
      "id": "dZQn_OKM7Cog"
    },
    {
      "cell_type": "code",
      "source": [
        "dockerfile_content = \"\"\"\n",
        "FROM svizor/zoomcamp-model:3.11.5-slim\n",
        "\n",
        "WORKDIR /app\n",
        "\n",
        "COPY Pipfile Pipfile.lock ./\n",
        "\n",
        "RUN pip install pipenv && pipenv install --deploy --ignore-pipfile\n",
        "\n",
        "COPY your_flask_script.py ./\n",
        "\n",
        "EXPOSE 8000\n",
        "\n",
        "CMD [\"pipenv\", \"run\", \"gunicorn\", \"-b\", \"0.0.0.0:8000\", \"your_flask_script:app\"]\n",
        "\"\"\"\n",
        "\n",
        "with open('Dockerfile', 'w') as f:\n",
        "    f.write(dockerfile_content)\n",
        "\n",
        "!cat Dockerfile"
      ],
      "metadata": {
        "colab": {
          "base_uri": "https://localhost:8080/"
        },
        "id": "0Iom72rL6_hn",
        "outputId": "4f9873c9-4328-4fb9-a592-76a58074ee36"
      },
      "id": "0Iom72rL6_hn",
      "execution_count": 15,
      "outputs": [
        {
          "output_type": "stream",
          "name": "stdout",
          "text": [
            "\n",
            "FROM svizor/zoomcamp-model:3.11.5-slim\n",
            "\n",
            "WORKDIR /app\n",
            "\n",
            "COPY Pipfile Pipfile.lock ./\n",
            "\n",
            "RUN pip install pipenv && pipenv install --deploy --ignore-pipfile\n",
            "\n",
            "COPY your_flask_script.py ./\n",
            "\n",
            "EXPOSE 8000\n",
            "\n",
            "CMD [\"pipenv\", \"run\", \"gunicorn\", \"-b\", \"0.0.0.0:8000\", \"your_flask_script:app\"]\n"
          ]
        }
      ]
    },
    {
      "cell_type": "code",
      "source": [
        "docker_runner(\"pull svizor/zoomcamp-model:3.11.5-slim\")\n",
        "\n",
        "docker_runner(\"create svizor/zoomcamp-model:3.11.5-slim\")\n",
        "\n",
        "import threading\n",
        "threading.Thread(target=docker_runner, args=(\"run svizor/zoomcamp-model:3.11.5-slim\",)).start()"
      ],
      "metadata": {
        "colab": {
          "base_uri": "https://localhost:8080/"
        },
        "id": "2VWRTw2J6_ni",
        "outputId": "e194ecf1-9bfb-45c2-c741-b1111ff0b7b4"
      },
      "id": "2VWRTw2J6_ni",
      "execution_count": 16,
      "outputs": [
        {
          "output_type": "stream",
          "name": "stdout",
          "text": [
            "Running: udocker pull svizor/zoomcamp-model:3.11.5-slim\n",
            "Info: downloading layer sha256:975e7bdca0869838298ca80e048a42da30cc5cec45b2d9bbd66716f53d411ac3\n",
            "Info: downloading layer sha256:4e69cd59a5afce089bba514b14081b05ba6c2888a4ffe1378977127fc7b8db0e\n",
            "Info: downloading layer sha256:fb37f8d7a667571f60eb276179a3a77e33167be1089aedde29d55e276c27002a\n",
            "Info: downloading layer sha256:0358d4e17ae3acc657f1a723b870b99fe04ce433425a02632d619c17775bf7c3\n",
            "Info: downloading layer sha256:a2cee97f4fbd9f436f5be78402ce82bbab4271b38ef3b40a5549add5fb4fac21\n",
            "Info: downloading layer sha256:eb76b60fbb0cfba1dcb66b4ab0d496630bc4c46c6ad9ce80976d815ef565e524\n",
            "Info: downloading layer sha256:bf3336e84c8e00632cdea35b18fec9a5691711bdc8ac885e3ef54a3d5ff500ba\n",
            "Info: downloading layer sha256:a803e7c4b030119420574a882a52b6431e160fceb7620f61b525d49bc2d58886\n",
            "Running: udocker create svizor/zoomcamp-model:3.11.5-slim\n",
            "7b64cae0-d6ca-39b0-8e53-6631c2e02f0b\n",
            "Running: udocker run svizor/zoomcamp-model:3.11.5-slim\n"
          ]
        }
      ]
    },
    {
      "cell_type": "markdown",
      "id": "85e583ae-c8bf-414b-88b9-9bd6188aa397",
      "metadata": {
        "id": "85e583ae-c8bf-414b-88b9-9bd6188aa397"
      },
      "source": [
        "### Question 6\n",
        "Let's run your docker container!\n",
        "\n",
        "After running it, score this client once again:\n",
        "\n",
        "url = \"YOUR_URL\"\n",
        "client = {\"job\": \"management\", \"duration\": 400, \"poutcome\": \"success\"}\n",
        "requests.post(url, json=client).json()\n",
        "What's the probability that this client will get a subscription now?\n",
        "\n",
        "0.287\n",
        "\n",
        "0.530\n",
        "\n",
        "0.757\n",
        "\n",
        "0.960"
      ]
    },
    {
      "cell_type": "code",
      "source": [
        "import requests\n",
        "import time\n",
        "\n",
        "time.sleep(5)\n",
        "\n",
        "url = \"http://172.28.0.12:9695/predict\"\n",
        "\n",
        "customer = {\"job\": \"management\", \"duration\": 400, \"poutcome\": \"success\"}\n",
        "\n",
        "response = requests.post(url, json=customer)\n",
        "\n",
        "result = response.json()\n",
        "print(result)"
      ],
      "metadata": {
        "colab": {
          "base_uri": "https://localhost:8080/"
        },
        "id": "5YkU0z8V77Sd",
        "outputId": "ab3ecb60-b008-4a00-c25a-af48a21ffb94"
      },
      "id": "5YkU0z8V77Sd",
      "execution_count": 17,
      "outputs": [
        {
          "output_type": "stream",
          "name": "stderr",
          "text": [
            "INFO:werkzeug:172.28.0.12 - - [30/Oct/2024 10:51:33] \"POST /predict HTTP/1.1\" 200 -\n"
          ]
        },
        {
          "output_type": "stream",
          "name": "stdout",
          "text": [
            " \n",
            " ****************************************************************************** \n",
            " *                                                                            * \n",
            " *               STARTING 20d941ba-ec28-3f3a-a710-4efdde5a7d4b                * \n",
            " *                                                                            * \n",
            " ****************************************************************************** \n",
            " executing: python3\n",
            "{'subscription_probability': 0.7590966516879658}\n"
          ]
        }
      ]
    },
    {
      "cell_type": "code",
      "source": [
        "probability = result.get(\"probability\")\n",
        "print(f\"The probability that this client will get a subscription now is: {probability}\")"
      ],
      "metadata": {
        "colab": {
          "base_uri": "https://localhost:8080/"
        },
        "id": "iwe3RfSB77VW",
        "outputId": "e72cc138-470a-467e-fbd5-3a6b43e4bc94"
      },
      "id": "iwe3RfSB77VW",
      "execution_count": 18,
      "outputs": [
        {
          "output_type": "stream",
          "name": "stdout",
          "text": [
            "The probability that this client will get a subscription now is: None\n"
          ]
        }
      ]
    }
  ],
  "metadata": {
    "colab": {
      "provenance": []
    },
    "kernelspec": {
      "display_name": "Python 3 (ipykernel)",
      "language": "python",
      "name": "python3"
    },
    "language_info": {
      "codemirror_mode": {
        "name": "ipython",
        "version": 3
      },
      "file_extension": ".py",
      "mimetype": "text/x-python",
      "name": "python",
      "nbconvert_exporter": "python",
      "pygments_lexer": "ipython3",
      "version": "3.12.7"
    }
  },
  "nbformat": 4,
  "nbformat_minor": 5
}